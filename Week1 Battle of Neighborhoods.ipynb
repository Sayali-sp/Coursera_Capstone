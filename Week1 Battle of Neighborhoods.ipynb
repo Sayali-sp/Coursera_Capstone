{
 "cells": [
  {
   "cell_type": "markdown",
   "metadata": {},
   "source": [
    "<h1> 1.INTRODCUTION </h1>"
   ]
  },
  {
   "cell_type": "markdown",
   "metadata": {},
   "source": [
    "<h2>1.a. Discussion of the Background </h2>"
   ]
  },
  {
   "cell_type": "markdown",
   "metadata": {},
   "source": [
    "<h4> Silicon Valley is the heart of global innovation, technology and social media. It is home to big tech giants like Apple, Facebook, Google, Microsoft, Linkedin, Uber and many more. With such big names come tremondous job opportunities which pulls people all over the world to migrate and make this silicon valley their home. But this huge influx of people eventually causes its own problems like, high property rates, cost of living and crazy traffic. While this fast paced life has its allure, it does not suite everyone and some prefer to have the advantages of silicon valley balanced with a somewhat quite and relaxing life more closer to the nature. </h4>\n",
    "    \n",
    "<h4>For these individuals the \"SILICON FOREST\" is a godsent! The silicon forest is a group of tech companies eastablished in the Willamett Valley in Oregon. Sice 1980's to date the area around silicon forest has seen a rise in population, infrastructure growth and development, expansion of cities, growth in housing and night life. It has almost all the pros of silicon valley with a more chilled out lifestyle. The Silicon Forest has drawn a crowd similar to silicon valley to its midst. </h4>\n",
    " "
   ]
  },
  {
   "cell_type": "markdown",
   "metadata": {},
   "source": [
    "<h2> 1.b. Description of Problem </h2>"
   ]
  },
  {
   "cell_type": "markdown",
   "metadata": {},
   "source": [
    "<h4> Let us consider an individual in intersted in starting a Restaurant with a unique idea which has not been \n",
    "     tested before. They are not ceratin if it will be embraced by the masses or be a big failure. They want to\n",
    "    try running a successfull business at a smaller scale, to test the waters before investing huge amounts and opening at a large \n",
    "    scale in heavily populous cities like San Francisco and San Jose. They hear about the silicon forest and feel as the client base might be similar it would be a good idea to consider opening a business there. They want to explore Oregon to start a busniess. </h4>\n",
    " <h4> So in this Capstone project I would like to address this problem. We will try to find out which county in Oregon has the most venues so as to select that county as the place of busniess. To explore the neighborhoods in that county, pitting them each other in the battle of neighborhoods.</h4>\n",
    " \n",
    " <h4> This kind of analysis will help not only the people seeking to open a business in popular places but with lower property rates, it will also help people who are seeking otions of places similar to silicon valley to relocate for a quiter life. </h4>"
   ]
  },
  {
   "cell_type": "markdown",
   "metadata": {},
   "source": [
    "<h1> 2.DESCRIPTION OF DATA </h1>"
   ]
  },
  {
   "cell_type": "markdown",
   "metadata": {},
   "source": [
    "<h2> 2.a. For the list of Counties </h2>\n",
    "<h4> Data Source: https://en.wikipedia.org/wiki/List_of_counties_in_Oregon </h4>\n",
    "   <h4>  Data Description: Will scrape the wikipidea page with the table contatining the information of all the counties of Oregon. </h4>\n",
    "   \n",
    " <h2>   2.b. For Latittude and Longitutdes</h2>\n",
    "   <h4>  Data Source: Geopy</h4>\n",
    "   <h4> Data Description: The wikipedia page does not contain the latitudes and longitude information. So the data was obtained by using the Geocoder class of the Geopy client. </h4>\n",
    "   \n",
    "   <h2> 2.c. List of Venues and Venue categories.</h2>\n",
    "   <h4> Data Source: Foursquare API's</h4>\n",
    " <h4>   Data Description: By using the Foursquare API we can get the information of the venues in the counties. Based on this this data we can further analyse the data by selecting the county with the highest number of venues. We can again use Foursquare API to get data about the venue categories in the neighborhoods of the selected county. </h4>"
   ]
  }
 ],
 "metadata": {
  "kernelspec": {
   "display_name": "Python",
   "language": "python",
   "name": "conda-env-python-py"
  },
  "language_info": {
   "codemirror_mode": {
    "name": "ipython",
    "version": 3
   },
   "file_extension": ".py",
   "mimetype": "text/x-python",
   "name": "python",
   "nbconvert_exporter": "python",
   "pygments_lexer": "ipython3",
   "version": "3.6.11"
  }
 },
 "nbformat": 4,
 "nbformat_minor": 4
}
